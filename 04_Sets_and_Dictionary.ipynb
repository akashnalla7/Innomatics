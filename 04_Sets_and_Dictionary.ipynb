{
  "nbformat": 4,
  "nbformat_minor": 0,
  "metadata": {
    "colab": {
      "provenance": []
    },
    "kernelspec": {
      "name": "python3",
      "display_name": "Python 3"
    },
    "language_info": {
      "name": "python"
    }
  },
  "cells": [
    {
      "cell_type": "markdown",
      "source": [
        "1. What is a set in Python? How is it different from other data structures like lists or tuples? Explain with examples."
      ],
      "metadata": {
        "id": "KPBgK9NvGH8K"
      }
    },
    {
      "cell_type": "markdown",
      "source": [
        " Set is a data structure that stores unique and unordered items. It is useful when you want to store distinct elements and perform operations like union, intersection, and difference efficiently.\n",
        "\n",
        "\n",
        "*   Lists are great for ordered, mutable collections with duplicates.\n",
        "*   Tuples are ordered and immutable, useful when a fixed collection is needed.  \n",
        "\n"
      ],
      "metadata": {
        "id": "QfPBIiQxGxOI"
      }
    },
    {
      "cell_type": "markdown",
      "source": [
        "2. What is the difference between set.pop() and list.pop()? Explain with examples.\n"
      ],
      "metadata": {
        "id": "g-ySO_NxGXRh"
      }
    },
    {
      "cell_type": "markdown",
      "source": [
        "- List.pop():\n",
        "    + In a list, .pop() removes and returns the last element by default, or a specified element at a given index if an index is provided. Lists are ordered, so the element removed is predictable.\n",
        "- set.pop():\n",
        "    + In a set, .pop() removes and returns an arbitrary element because sets are unordered. There is no index in a set, so you cannot specify which element to remove. The element returned by .pop() is not guaranteed to be the same each time, as it depends on the internal ordering of elements in the set."
      ],
      "metadata": {
        "id": "QG9Ijxj-HhIo"
      }
    },
    {
      "cell_type": "code",
      "source": [
        "# list\n",
        "my_list = [10, 20, 30, 40, 50]\n",
        "\n",
        "# Remove and return the last element\n",
        "last_item = my_list.pop()\n",
        "print(last_item)\n",
        "print(my_list)\n",
        "\n",
        "# Remove and return the element at a specific index\n",
        "second_item = my_list.pop(1)\n",
        "print(second_item)\n",
        "print(my_list)\n",
        "\n",
        "# Set\n",
        "my_set = {10, 20, 30, 40, 50}\n",
        "\n",
        "# Remove and return an arbitrary element\n",
        "random_item = my_set.pop()\n",
        "print(random_item)  # Output could be any of 10, 20, 30, 40, or 50\n",
        "print(my_set)       # Output will be the remaining elements in an arbitrary order\n"
      ],
      "metadata": {
        "colab": {
          "base_uri": "https://localhost:8080/"
        },
        "id": "tDZstQbTH2jI",
        "outputId": "97760a9e-6692-4f98-d9cd-b2e083cb84e8"
      },
      "execution_count": 2,
      "outputs": [
        {
          "output_type": "stream",
          "name": "stdout",
          "text": [
            "50\n",
            "[10, 20, 30, 40]\n",
            "20\n",
            "[10, 30, 40]\n",
            "50\n",
            "{20, 40, 10, 30}\n"
          ]
        }
      ]
    },
    {
      "cell_type": "markdown",
      "source": [
        "3. Given the set S = {1, 2, 3, 4, 5, 76, 32, 65}, apply all built-in set functions to this example.\n",
        "\n"
      ],
      "metadata": {
        "id": "lTCukf6RGXOR"
      }
    },
    {
      "cell_type": "code",
      "source": [
        "dir(set)"
      ],
      "metadata": {
        "colab": {
          "base_uri": "https://localhost:8080/"
        },
        "id": "XFVArAP3INjc",
        "outputId": "d30708af-6302-41fd-83eb-3d8b109beb38"
      },
      "execution_count": 3,
      "outputs": [
        {
          "output_type": "execute_result",
          "data": {
            "text/plain": [
              "['__and__',\n",
              " '__class__',\n",
              " '__class_getitem__',\n",
              " '__contains__',\n",
              " '__delattr__',\n",
              " '__dir__',\n",
              " '__doc__',\n",
              " '__eq__',\n",
              " '__format__',\n",
              " '__ge__',\n",
              " '__getattribute__',\n",
              " '__gt__',\n",
              " '__hash__',\n",
              " '__iand__',\n",
              " '__init__',\n",
              " '__init_subclass__',\n",
              " '__ior__',\n",
              " '__isub__',\n",
              " '__iter__',\n",
              " '__ixor__',\n",
              " '__le__',\n",
              " '__len__',\n",
              " '__lt__',\n",
              " '__ne__',\n",
              " '__new__',\n",
              " '__or__',\n",
              " '__rand__',\n",
              " '__reduce__',\n",
              " '__reduce_ex__',\n",
              " '__repr__',\n",
              " '__ror__',\n",
              " '__rsub__',\n",
              " '__rxor__',\n",
              " '__setattr__',\n",
              " '__sizeof__',\n",
              " '__str__',\n",
              " '__sub__',\n",
              " '__subclasshook__',\n",
              " '__xor__',\n",
              " 'add',\n",
              " 'clear',\n",
              " 'copy',\n",
              " 'difference',\n",
              " 'difference_update',\n",
              " 'discard',\n",
              " 'intersection',\n",
              " 'intersection_update',\n",
              " 'isdisjoint',\n",
              " 'issubset',\n",
              " 'issuperset',\n",
              " 'pop',\n",
              " 'remove',\n",
              " 'symmetric_difference',\n",
              " 'symmetric_difference_update',\n",
              " 'union',\n",
              " 'update']"
            ]
          },
          "metadata": {},
          "execution_count": 3
        }
      ]
    },
    {
      "cell_type": "code",
      "source": [
        "S = {1, 2, 3, 4, 5, 76, 32, 65}\n",
        "\n",
        "# add\n",
        "S.add(100)\n",
        "print(S)\n",
        "\n",
        "# pop\n",
        "pop_item = S.pop()\n",
        "print(\"pop item:\",pop_item)\n",
        "print(S)\n",
        "\n",
        "# remove\n",
        "S.remove(100) # removing 100 from the set\n",
        "print(S)\n",
        "\n",
        "# Update\n",
        "S1 = {100,200,300}\n",
        "S.update(S1) # Updating the S by adding S1\n",
        "print(S)\n",
        "\n",
        "# copy\n",
        "s_copy = S.copy()\n",
        "print(s_copy)\n",
        "\n",
        "# clear\n",
        "S.clear()\n",
        "print(S)\n"
      ],
      "metadata": {
        "colab": {
          "base_uri": "https://localhost:8080/"
        },
        "id": "IJrjwJywH2BD",
        "outputId": "51e5e293-f4d9-4fcd-e8ef-270b5b3574c6"
      },
      "execution_count": 13,
      "outputs": [
        {
          "output_type": "stream",
          "name": "stdout",
          "text": [
            "{32, 1, 2, 3, 4, 5, 65, 100, 76}\n",
            "pop item: 32\n",
            "{1, 2, 3, 4, 5, 65, 100, 76}\n",
            "{1, 2, 3, 4, 5, 65, 76}\n",
            "{1, 2, 3, 4, 5, 65, 100, 200, 76, 300}\n",
            "{1, 2, 3, 4, 5, 65, 100, 200, 76, 300}\n",
            "set()\n"
          ]
        }
      ]
    },
    {
      "cell_type": "markdown",
      "source": [
        "4. Update the first set with items that don't exist in the second set.\n",
        "- s1={150,200,400}\n",
        "- s2={200,750,650}\n",
        "- Expected output: s1={150,400}\n"
      ],
      "metadata": {
        "id": "1dqBXdg6GXLz"
      }
    },
    {
      "cell_type": "code",
      "source": [
        "s1={150,200,400}\n",
        "s2={200,750,650}\n",
        "\n",
        "s1 - s2"
      ],
      "metadata": {
        "colab": {
          "base_uri": "https://localhost:8080/"
        },
        "id": "OcSRujXHKtx4",
        "outputId": "029d6b36-8a3e-4df7-8f80-d89044d0566d"
      },
      "execution_count": 15,
      "outputs": [
        {
          "output_type": "execute_result",
          "data": {
            "text/plain": [
              "{150, 400}"
            ]
          },
          "metadata": {},
          "execution_count": 15
        }
      ]
    },
    {
      "cell_type": "markdown",
      "source": [
        "5. Define a set S = {apple, banana, cherry, orange}. Use Python set methods to add a new fruit 'grape' to S, remove 'banana' from S, and check the length of S.\n"
      ],
      "metadata": {
        "id": "yS8CXZU3GXJZ"
      }
    },
    {
      "cell_type": "code",
      "source": [
        "S = {\"apple\", \"banana\", \"cherry\", \"orange\"}\n",
        "\n",
        "# adding new fruit \"grape\"\n",
        "S.add(\"grape\")\n",
        "\n",
        "# removing banana\n",
        "S.remove(\"banana\")\n",
        "\n",
        "# length of S\n",
        "print(S,len(S), sep=\"\\n\")"
      ],
      "metadata": {
        "colab": {
          "base_uri": "https://localhost:8080/"
        },
        "id": "U4p_tLOfKzoK",
        "outputId": "b76c0e5e-e6fb-4752-d5bd-75bee3295298"
      },
      "execution_count": 16,
      "outputs": [
        {
          "output_type": "stream",
          "name": "stdout",
          "text": [
            "{'grape', 'apple', 'cherry', 'orange'}\n",
            "4\n"
          ]
        }
      ]
    },
    {
      "cell_type": "markdown",
      "source": [
        "6. dict = {“name1_marks” : [34,56,87,89], “name2_marks” : [78,98,54,34],  “name3_marks” : [87,65,97,90]}   add the marks   97  in  “name1_marks”.\n",
        "Expected output : {“name1_marks” : [34,56,87,89, 97], “name2_marks” : [78,98,54,34],  “name3_marks” : [87,65,97,90]}\n",
        "\n",
        "\n"
      ],
      "metadata": {
        "id": "RJDg61asGXHN"
      }
    },
    {
      "cell_type": "code",
      "source": [
        "dict1 = {\"name1_marks\" : [34,56,87,89], \"name2_marks\" : [78,98,54,34], \"name3_marks\" : [87,65,97,90]}\n",
        "\n",
        "dict1[\"name1_marks\"].append(97)\n",
        "\n",
        "print(dict1)"
      ],
      "metadata": {
        "colab": {
          "base_uri": "https://localhost:8080/"
        },
        "id": "0izddvBfLlcu",
        "outputId": "af781d48-dc6f-4ded-984d-1bcfc1235cd2"
      },
      "execution_count": 19,
      "outputs": [
        {
          "output_type": "stream",
          "name": "stdout",
          "text": [
            "{'name1_marks': [34, 56, 87, 89, 97], 'name2_marks': [78, 98, 54, 34], 'name3_marks': [87, 65, 97, 90]}\n"
          ]
        }
      ]
    },
    {
      "cell_type": "code",
      "source": [],
      "metadata": {
        "id": "AVg_DjkvL8nP"
      },
      "execution_count": null,
      "outputs": []
    }
  ]
}