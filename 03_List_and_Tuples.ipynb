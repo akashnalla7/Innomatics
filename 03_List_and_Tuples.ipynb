{
  "nbformat": 4,
  "nbformat_minor": 0,
  "metadata": {
    "colab": {
      "provenance": []
    },
    "kernelspec": {
      "name": "python3",
      "display_name": "Python 3"
    },
    "language_info": {
      "name": "python"
    }
  },
  "cells": [
    {
      "cell_type": "markdown",
      "source": [
        "1. Explain the properties of list and tuple in the markdown cell.\n"
      ],
      "metadata": {
        "id": "zeNSwAlDH-0_"
      }
    },
    {
      "cell_type": "markdown",
      "source": [
        "+ List: A list is a collection of items (like numbers or words)\n",
        "    - Properties:\n",
        "        + Mutable\n",
        "        + Ordered\n",
        "        + Allow Duplicates\n",
        "+ Tuple: A list is a collection of items (like numbers or words), simliar to lsit.\n",
        "    - Properties:\n",
        "        + Immutable\n",
        "        + Ordered\n",
        "        + Allow Duplicates\n",
        "\n"
      ],
      "metadata": {
        "id": "P7BjsTebII4e"
      }
    },
    {
      "cell_type": "markdown",
      "source": [
        "2. Create a list containing the numbers 1 to 5.\n"
      ],
      "metadata": {
        "id": "vC8i2uHGJJPG"
      }
    },
    {
      "cell_type": "code",
      "execution_count": null,
      "metadata": {
        "colab": {
          "base_uri": "https://localhost:8080/"
        },
        "id": "_wZsJw2VH7QD",
        "outputId": "4505b49a-5e61-4423-d4b5-ff2a588202ca"
      },
      "outputs": [
        {
          "output_type": "stream",
          "name": "stdout",
          "text": [
            "[1, 2, 3, 4, 5]\n"
          ]
        }
      ],
      "source": [
        "l = list(range(1,6))\n",
        "print(l)"
      ]
    },
    {
      "cell_type": "markdown",
      "source": [
        "3. Access the third element of the list [10, 20, 30, 40, 50]."
      ],
      "metadata": {
        "id": "3EMa_ZM2Jtlq"
      }
    },
    {
      "cell_type": "code",
      "source": [
        "l = [10, 20, 30, 40, 50]\n",
        "print(l[2])"
      ],
      "metadata": {
        "colab": {
          "base_uri": "https://localhost:8080/"
        },
        "id": "2fhO7gaQJSLA",
        "outputId": "05a13fb8-77bf-41d9-a090-e7cc139e7742"
      },
      "execution_count": null,
      "outputs": [
        {
          "output_type": "stream",
          "name": "stdout",
          "text": [
            "30\n"
          ]
        }
      ]
    },
    {
      "cell_type": "markdown",
      "source": [
        "4. Change the second element of the list [1, 2, 3, 4, 5] to 10."
      ],
      "metadata": {
        "id": "Qn-QRWcWJ4JT"
      }
    },
    {
      "cell_type": "code",
      "source": [
        "l = list(range(1,6))\n",
        "\n",
        "l[1] = 10\n",
        "print(l)"
      ],
      "metadata": {
        "colab": {
          "base_uri": "https://localhost:8080/"
        },
        "id": "LcNHJ6hiJzLN",
        "outputId": "132cb539-d978-477a-b2db-f2096bfdd2cb"
      },
      "execution_count": null,
      "outputs": [
        {
          "output_type": "stream",
          "name": "stdout",
          "text": [
            "[1, 10, 3, 4, 5]\n"
          ]
        }
      ]
    },
    {
      "cell_type": "markdown",
      "source": [
        "5. Add the element 6 to the end of the list [1, 2, 3, 4, 5]."
      ],
      "metadata": {
        "id": "lL1SQg-IKHB6"
      }
    },
    {
      "cell_type": "code",
      "source": [
        "l = list(range(1,6))\n",
        "\n",
        "l.append(6)\n",
        "print(l)"
      ],
      "metadata": {
        "colab": {
          "base_uri": "https://localhost:8080/"
        },
        "id": "5qorvoLLKCCn",
        "outputId": "491523ae-48cf-47de-8f4f-2c60e9f79030"
      },
      "execution_count": null,
      "outputs": [
        {
          "output_type": "stream",
          "name": "stdout",
          "text": [
            "[1, 2, 3, 4, 5, 6]\n"
          ]
        }
      ]
    },
    {
      "cell_type": "markdown",
      "source": [
        "6. Concatenate the lists [1, 2, 3] and [4, 5, 6].\n"
      ],
      "metadata": {
        "id": "9bVTF8smKV0P"
      }
    },
    {
      "cell_type": "code",
      "source": [
        "list1,list2 = [1,2,3],[4,5,6]\n",
        "list_ = list1 + list2\n",
        "print(list_)"
      ],
      "metadata": {
        "colab": {
          "base_uri": "https://localhost:8080/"
        },
        "id": "h2ePdpfxKSMM",
        "outputId": "0ae5dae9-9060-47b2-a595-e45a0a3d4992"
      },
      "execution_count": null,
      "outputs": [
        {
          "output_type": "stream",
          "name": "stdout",
          "text": [
            "[1, 2, 3, 4, 5, 6]\n"
          ]
        }
      ]
    },
    {
      "cell_type": "markdown",
      "source": [
        "7. Create a tuple containing the strings \"apple\", \"banana\", and \"cherry\".\n"
      ],
      "metadata": {
        "id": "H5kq2cUOKvYv"
      }
    },
    {
      "cell_type": "code",
      "source": [
        "t = (\"apple\",\"banana\",\"cherry\")\n",
        "print(t)"
      ],
      "metadata": {
        "colab": {
          "base_uri": "https://localhost:8080/"
        },
        "id": "37573iPuKpGR",
        "outputId": "b5243c2b-454b-4234-eacf-d4fee6ca7e53"
      },
      "execution_count": null,
      "outputs": [
        {
          "output_type": "stream",
          "name": "stdout",
          "text": [
            "('apple', 'banana', 'cherry')\n"
          ]
        }
      ]
    },
    {
      "cell_type": "markdown",
      "source": [
        "8. Access the first element of the tuple (\"apple\", \"banana\", \"cherry\").\n"
      ],
      "metadata": {
        "id": "iVBCzLitK5ix"
      }
    },
    {
      "cell_type": "code",
      "source": [
        "print(t[0])"
      ],
      "metadata": {
        "colab": {
          "base_uri": "https://localhost:8080/"
        },
        "id": "qSWfkCoGK10a",
        "outputId": "610c6daf-abc8-4124-dc48-65c93b7cdb95"
      },
      "execution_count": null,
      "outputs": [
        {
          "output_type": "stream",
          "name": "stdout",
          "text": [
            "apple\n"
          ]
        }
      ]
    },
    {
      "cell_type": "markdown",
      "source": [
        "9. Check if the number 4 is in the list [1, 2, 3, 4, 5].\n"
      ],
      "metadata": {
        "id": "ww6qwnk9LApo"
      }
    },
    {
      "cell_type": "code",
      "source": [
        "l = [1, 2, 3, 4, 5]\n",
        "print(4 in l)"
      ],
      "metadata": {
        "colab": {
          "base_uri": "https://localhost:8080/"
        },
        "id": "rMkZdjdVK9Ur",
        "outputId": "ff10fcd9-b375-4070-c7ca-d1c8976de7c9"
      },
      "execution_count": null,
      "outputs": [
        {
          "output_type": "stream",
          "name": "stdout",
          "text": [
            "True\n"
          ]
        }
      ]
    },
    {
      "cell_type": "markdown",
      "source": [
        "10. Find the length of the list [10, 20, 30, 40, 50].\n"
      ],
      "metadata": {
        "id": "SiXQ5TDrLJPG"
      }
    },
    {
      "cell_type": "code",
      "source": [
        "l = [10, 20, 30, 40, 50]\n",
        "print(len(l))"
      ],
      "metadata": {
        "colab": {
          "base_uri": "https://localhost:8080/"
        },
        "id": "rt9J3jmvLGhT",
        "outputId": "26bfe957-d8d3-478c-eebc-ee7f5008608b"
      },
      "execution_count": null,
      "outputs": [
        {
          "output_type": "stream",
          "name": "stdout",
          "text": [
            "5\n"
          ]
        }
      ]
    },
    {
      "cell_type": "markdown",
      "source": [
        "11. Slice the list [10, 20, 30, 40, 50] to get the sublist [20, 30, 40].\n"
      ],
      "metadata": {
        "id": "V-UgZbtHLPdA"
      }
    },
    {
      "cell_type": "code",
      "source": [
        "l = [10, 20, 30, 40, 50]\n",
        "print(l[1:4])"
      ],
      "metadata": {
        "colab": {
          "base_uri": "https://localhost:8080/"
        },
        "id": "Al7sypcgLNBA",
        "outputId": "43656817-0585-4eed-84d3-1ade97ca915e"
      },
      "execution_count": null,
      "outputs": [
        {
          "output_type": "stream",
          "name": "stdout",
          "text": [
            "[20, 30, 40]\n"
          ]
        }
      ]
    },
    {
      "cell_type": "markdown",
      "source": [
        "12. Unpack the tuple (10, 20, 30) into three variables.\n"
      ],
      "metadata": {
        "id": "YQSmnjO_La1c"
      }
    },
    {
      "cell_type": "code",
      "source": [
        "t1,t2,t3 = (10,20,30)\n",
        "\n",
        "print(t1,t2,t3)"
      ],
      "metadata": {
        "colab": {
          "base_uri": "https://localhost:8080/"
        },
        "id": "S6P6GvkhLYkU",
        "outputId": "3d8744f0-dd7a-4547-aedf-0a26826e2799"
      },
      "execution_count": null,
      "outputs": [
        {
          "output_type": "stream",
          "name": "stdout",
          "text": [
            "10 20 30\n"
          ]
        }
      ]
    },
    {
      "cell_type": "markdown",
      "source": [
        "13. Count the number of times the element 2 appears in the list [1, 2, 2, 3, 4, 2,5].\n"
      ],
      "metadata": {
        "id": "FbXjpueQLt90"
      }
    },
    {
      "cell_type": "code",
      "source": [
        "l = [1, 2, 2, 3, 4, 2,5]\n",
        "l.count(2)"
      ],
      "metadata": {
        "colab": {
          "base_uri": "https://localhost:8080/"
        },
        "id": "bveMLmXdLpI0",
        "outputId": "74e3fd81-5af0-4124-f15c-02ee621dd806"
      },
      "execution_count": null,
      "outputs": [
        {
          "output_type": "execute_result",
          "data": {
            "text/plain": [
              "3"
            ]
          },
          "metadata": {},
          "execution_count": 15
        }
      ]
    },
    {
      "cell_type": "markdown",
      "source": [
        "14. Find the maximum element in the list [1, 2, 3, 4, 5].\n"
      ],
      "metadata": {
        "id": "1hzriYAbL8r9"
      }
    },
    {
      "cell_type": "code",
      "source": [
        "l = [1, 2, 3, 4, 5]\n",
        "print(max(l))"
      ],
      "metadata": {
        "colab": {
          "base_uri": "https://localhost:8080/"
        },
        "id": "I615X6d-L4ws",
        "outputId": "470f288a-8002-46a9-c79a-9370b5257d37"
      },
      "execution_count": null,
      "outputs": [
        {
          "output_type": "stream",
          "name": "stdout",
          "text": [
            "5\n"
          ]
        }
      ]
    },
    {
      "cell_type": "markdown",
      "source": [
        "15. Convert the list [1, 2, 3, 4, 5] to a tuple.\n"
      ],
      "metadata": {
        "id": "TXbpFY-UMCTt"
      }
    },
    {
      "cell_type": "code",
      "source": [
        "l = [1, 2, 3, 4, 5]\n",
        "t = tuple(l)\n",
        "print(t)"
      ],
      "metadata": {
        "colab": {
          "base_uri": "https://localhost:8080/"
        },
        "id": "a_6aKnMJMAYg",
        "outputId": "91e1ba98-3368-4823-8440-53dac2912f90"
      },
      "execution_count": null,
      "outputs": [
        {
          "output_type": "stream",
          "name": "stdout",
          "text": [
            "(1, 2, 3, 4, 5)\n"
          ]
        }
      ]
    },
    {
      "cell_type": "markdown",
      "source": [
        "16. Extend the list [1, 2, 3] with elements from the list [4, 5, 6].\n"
      ],
      "metadata": {
        "id": "MZEoqc2sMLBM"
      }
    },
    {
      "cell_type": "code",
      "source": [
        "l1 = [1,2,3]\n",
        "l2 = [4,5,6]\n",
        "\n",
        "l1.extend(l2)\n",
        "\n",
        "print(l1)"
      ],
      "metadata": {
        "colab": {
          "base_uri": "https://localhost:8080/"
        },
        "id": "RTL0erCPMHf1",
        "outputId": "d7803825-6cf1-47f9-8a9e-601b067d4797"
      },
      "execution_count": null,
      "outputs": [
        {
          "output_type": "stream",
          "name": "stdout",
          "text": [
            "[1, 2, 3, 4, 5, 6]\n"
          ]
        }
      ]
    },
    {
      "cell_type": "markdown",
      "source": [
        "17. Reverse the list [1, 2, 3, 4, 5]."
      ],
      "metadata": {
        "id": "zgYj2R5WMfKP"
      }
    },
    {
      "cell_type": "code",
      "source": [
        "l = [1, 2, 3, 4, 5]\n",
        "print(l[::-1])"
      ],
      "metadata": {
        "colab": {
          "base_uri": "https://localhost:8080/"
        },
        "id": "hQ5SiNYWMUCT",
        "outputId": "6baa636b-0c40-46d2-9157-b476eff32859"
      },
      "execution_count": null,
      "outputs": [
        {
          "output_type": "stream",
          "name": "stdout",
          "text": [
            "[5, 4, 3, 2, 1]\n"
          ]
        }
      ]
    },
    {
      "cell_type": "markdown",
      "source": [
        "18. Access the element 3 in the nested list [[1, 2], [3, 4], [5, 6]].\n"
      ],
      "metadata": {
        "id": "osF7ksb9MmX4"
      }
    },
    {
      "cell_type": "code",
      "source": [
        "l = [[1, 2], [3, 4], [5, 6]]\n",
        "\n",
        "l[1][0]"
      ],
      "metadata": {
        "colab": {
          "base_uri": "https://localhost:8080/"
        },
        "id": "YeAihCsCMi6L",
        "outputId": "b4657ca2-fb24-4619-b22f-4c9948fefc1e"
      },
      "execution_count": null,
      "outputs": [
        {
          "output_type": "execute_result",
          "data": {
            "text/plain": [
              "3"
            ]
          },
          "metadata": {},
          "execution_count": 23
        }
      ]
    },
    {
      "cell_type": "markdown",
      "source": [
        "19. Remove the element 4 from the list [1, 2, 3, 4, 5]."
      ],
      "metadata": {
        "id": "nlLb0Ga8MuVD"
      }
    },
    {
      "cell_type": "code",
      "source": [
        "l = [1, 2, 3, 4, 5]\n",
        "l.remove(4)\n",
        "print(l)"
      ],
      "metadata": {
        "colab": {
          "base_uri": "https://localhost:8080/"
        },
        "id": "46mzyITeMr6v",
        "outputId": "338112a8-9b2c-4d29-ba24-aa4363f06db7"
      },
      "execution_count": null,
      "outputs": [
        {
          "output_type": "stream",
          "name": "stdout",
          "text": [
            "[1, 2, 3, 5]\n"
          ]
        }
      ]
    },
    {
      "cell_type": "markdown",
      "source": [
        "20. Convert the tuple (1, 2, 3, 4, 5) to a list.\n"
      ],
      "metadata": {
        "id": "rWUvfsQrM2ib"
      }
    },
    {
      "cell_type": "code",
      "source": [
        "t = (1, 2, 3, 4, 5)\n",
        "l = list(t)\n",
        "print(l)\n"
      ],
      "metadata": {
        "colab": {
          "base_uri": "https://localhost:8080/"
        },
        "id": "shvPJqORMy3j",
        "outputId": "15a52941-c7e8-4726-bacb-038a1c22e17e"
      },
      "execution_count": null,
      "outputs": [
        {
          "output_type": "stream",
          "name": "stdout",
          "text": [
            "[1, 2, 3, 4, 5]\n"
          ]
        }
      ]
    },
    {
      "cell_type": "markdown",
      "source": [
        "21. Find the index of the element 3 in the list [1, 2, 3, 4, 5]."
      ],
      "metadata": {
        "id": "v8Se0uV7NA31"
      }
    },
    {
      "cell_type": "code",
      "source": [
        "l = [1, 2, 3, 4, 5]\n",
        "l.index(3)"
      ],
      "metadata": {
        "colab": {
          "base_uri": "https://localhost:8080/"
        },
        "id": "JqJRDmK_M8XC",
        "outputId": "6429ef71-4523-4721-c763-5ebf7fad1442"
      },
      "execution_count": null,
      "outputs": [
        {
          "output_type": "execute_result",
          "data": {
            "text/plain": [
              "2"
            ]
          },
          "metadata": {},
          "execution_count": 29
        }
      ]
    },
    {
      "cell_type": "markdown",
      "source": [
        "22. Explain why the following operation fails: t = (1, 2, 3); t[0] = 0."
      ],
      "metadata": {
        "id": "8pgSiKDgNJ8o"
      }
    },
    {
      "cell_type": "markdown",
      "source": [
        "Tuples are immutable, it mean you cannot change the items once the tuple is created."
      ],
      "metadata": {
        "id": "sUu1ZEAXNQxr"
      }
    },
    {
      "cell_type": "markdown",
      "source": [
        "23. You have a list of your favorite Marvel superheroes.\n",
        "heroes=['spider man','thor','hulk','iron man','captain america']  Using this list:<br>\n",
        "- find Length of the list\n",
        "- Add 'black panther' at the end of this list.\n",
        "- You realize that you need to add 'black panther' after 'hulk', so remove it - from the list first and then add it after 'hulk'.\n",
        "- Now you don't like thor and hulk because they get angry easily 🙂. So you want to remove thor and hulk from the list and replace them with Doctor Strange (because he is cool).Do that with one line of code.\n",
        "- Sort the list in alphabetical order.\n"
      ],
      "metadata": {
        "id": "kADZBRsWNlz7"
      }
    },
    {
      "cell_type": "code",
      "source": [
        "heroes=['spider man','thor','hulk','iron man','captain america']\n",
        "\n",
        "#1\n",
        "print(\"Length of the list: \",len(heroes))\n",
        "\n",
        "#2\n",
        "heroes.append('black panther')\n",
        "print(\"2: \",heroes)\n",
        "\n",
        "#3\n",
        "heroes.remove('black panther')\n",
        "heroes.insert(3,'black panther')\n",
        "print(\"3: \",heroes)\n",
        "\n",
        "#4\n",
        "heroes[1:3]=['Doctor Strange']\n",
        "print(\"4:\",heroes)\n",
        "\n",
        "#5\n",
        "heroes.sort()\n",
        "print(\"5:\",heroes)\n"
      ],
      "metadata": {
        "colab": {
          "base_uri": "https://localhost:8080/"
        },
        "id": "O-otbe4nNFu0",
        "outputId": "e12fd6c0-1011-4e46-bb65-d531bb785c10"
      },
      "execution_count": null,
      "outputs": [
        {
          "output_type": "stream",
          "name": "stdout",
          "text": [
            "Length of the list:  5\n",
            "2:  ['spider man', 'thor', 'hulk', 'iron man', 'captain america', 'black panther']\n",
            "3:  ['spider man', 'thor', 'hulk', 'black panther', 'iron man', 'captain america']\n",
            "4: ['spider man', 'Doctor Strange', 'black panther', 'iron man', 'captain america']\n",
            "5: ['Doctor Strange', 'black panther', 'captain america', 'iron man', 'spider man']\n"
          ]
        }
      ]
    },
    {
      "cell_type": "markdown",
      "source": [
        "24. Write a program to add item 7000 after 6000 in the following Python List: list1 = [10, 20, [300, 400, [5000, 6000], 500], 30, 40]"
      ],
      "metadata": {
        "id": "LS7Wl2F8OGsN"
      }
    },
    {
      "cell_type": "code",
      "source": [
        "list1 = [10, 20, [300, 400, [5000, 6000], 500], 30, 40]\n",
        "\n",
        "list1[2][2].append(7000)\n",
        "print(list1)"
      ],
      "metadata": {
        "colab": {
          "base_uri": "https://localhost:8080/"
        },
        "id": "AVZQmtIgN7LW",
        "outputId": "b3b02d93-2a80-4e27-dd73-fa6c1a747dc1"
      },
      "execution_count": null,
      "outputs": [
        {
          "output_type": "stream",
          "name": "stdout",
          "text": [
            "[10, 20, [300, 400, [5000, 6000, 7000], 500], 30, 40]\n"
          ]
        }
      ]
    },
    {
      "cell_type": "code",
      "source": [],
      "metadata": {
        "id": "NsafEWQgOKFJ"
      },
      "execution_count": null,
      "outputs": []
    }
  ]
}