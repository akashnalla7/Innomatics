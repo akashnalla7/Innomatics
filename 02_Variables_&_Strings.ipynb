{
  "nbformat": 4,
  "nbformat_minor": 0,
  "metadata": {
    "colab": {
      "provenance": []
    },
    "kernelspec": {
      "name": "python3",
      "display_name": "Python 3"
    },
    "language_info": {
      "name": "python"
    }
  },
  "cells": [
    {
      "cell_type": "markdown",
      "source": [
        "1. Define two variables, a and b, with values 12 and 5 respectively. Write a Python program to calculate and print their sum, difference, product, quotient, and modulus.\n"
      ],
      "metadata": {
        "id": "B6zEKiYCYa-y"
      }
    },
    {
      "cell_type": "code",
      "execution_count": null,
      "metadata": {
        "colab": {
          "base_uri": "https://localhost:8080/"
        },
        "id": "_mcuQGKkYaSg",
        "outputId": "ffee5d84-cfc3-40e0-8517-0c1951ba8b8c"
      },
      "outputs": [
        {
          "output_type": "stream",
          "name": "stdout",
          "text": [
            "Sum: 17\n",
            "Difference: 7\n",
            "Product: 60\n",
            "Quotient: 2\n",
            "Modulus: 2\n"
          ]
        }
      ],
      "source": [
        "a = 12\n",
        "b = 5\n",
        "\n",
        "print(\"Sum:\", a + b)\n",
        "print(\"Difference:\", a - b)\n",
        "print(\"Product:\", a * b)\n",
        "print(\"Quotient:\", a // b)\n",
        "print(\"Modulus:\", a % b)\n"
      ]
    },
    {
      "cell_type": "markdown",
      "source": [
        "Q2. Write a Python program to evaluate the expression (8 + 2) * (3 - 1) ** 2 / 2 and explain how the use of parentheses affects the result using comments"
      ],
      "metadata": {
        "id": "jtGce2B7ZI4-"
      }
    },
    {
      "cell_type": "code",
      "source": [
        "(8 + 2) * (3 - 1) ** 2 / 2\n",
        "# (10) * (2)**2 / 2\n",
        "# (10) * 4 / 2\n",
        "# 40/2\n",
        "# 20 - final answer"
      ],
      "metadata": {
        "colab": {
          "base_uri": "https://localhost:8080/"
        },
        "id": "I8JjmFFIY_BA",
        "outputId": "1c0e6f26-fc9c-4a39-ed21-fd8d914afa2e"
      },
      "execution_count": null,
      "outputs": [
        {
          "output_type": "execute_result",
          "data": {
            "text/plain": [
              "20.0"
            ]
          },
          "metadata": {},
          "execution_count": 3
        }
      ]
    },
    {
      "cell_type": "markdown",
      "source": [
        "Q3.Given three boolean variables, p = True, q = False, and r = True, write a Python program that evaluates and prints the result of the logical expressions p and q, p or q, and not r.\n"
      ],
      "metadata": {
        "id": "CviiuXBNm68I"
      }
    },
    {
      "cell_type": "code",
      "source": [
        "p = True\n",
        "q = False\n",
        "r = True\n",
        "\n",
        "print(p and q)\n",
        "print(p or q)\n",
        "print(not r)\n"
      ],
      "metadata": {
        "colab": {
          "base_uri": "https://localhost:8080/"
        },
        "id": "TwEr0wNKZYIN",
        "outputId": "cb76b5be-6179-482c-d0e3-a20779ca8c46"
      },
      "execution_count": null,
      "outputs": [
        {
          "output_type": "stream",
          "name": "stdout",
          "text": [
            "False\n",
            "True\n",
            "False\n"
          ]
        }
      ]
    },
    {
      "cell_type": "markdown",
      "source": [
        "Q4. Write a Python program to evaluate the expression 10 + 2 * 3 / 4 - 5 ** 2 and print the result. Explain the order in which the operations are performed using comments.\n"
      ],
      "metadata": {
        "id": "QLAL4ulVnsIu"
      }
    },
    {
      "cell_type": "code",
      "source": [
        "print(10 + 2 * 3 / 4 - 5 ** 2)\n",
        "\n",
        "# 10 + 2 * 3 / 4 - 25\n",
        "# 10 + 6 / 4 - 25\n",
        "# 10 + 1.5 - 25\n",
        "# 11.5 - 25\n",
        "# -13.5 -- Final Answer\n"
      ],
      "metadata": {
        "colab": {
          "base_uri": "https://localhost:8080/"
        },
        "id": "T5Azlnf6nXZW",
        "outputId": "bfcc21b8-632d-4cc9-80bd-2b39b1eba498"
      },
      "execution_count": null,
      "outputs": [
        {
          "output_type": "stream",
          "name": "stdout",
          "text": [
            "-13.5\n"
          ]
        }
      ]
    },
    {
      "cell_type": "markdown",
      "source": [
        "Q5.Create a variable to store the string \"Earth revolves around the sun\"\n",
        "  - Print \"revolves\" using slice operator\n",
        "  - Print \"sun\" using negative index\n",
        "  \n",
        "+ Create a string made of the middle two characters.\n",
        "   - Example input: Innomatics\n",
        "   - Example output: ma\n"
      ],
      "metadata": {
        "id": "zDuG5JUAoUyK"
      }
    },
    {
      "cell_type": "code",
      "source": [
        "str1 = \"Earth revolves around the sun\"\n",
        "\n",
        "print(str1[6:14])\n",
        "print(str1[-3:])\n",
        "\n",
        "str2 = \"innomatics\"\n",
        "\n",
        "print(str2[4:6])\n"
      ],
      "metadata": {
        "colab": {
          "base_uri": "https://localhost:8080/"
        },
        "id": "nbkNPKjtn2zl",
        "outputId": "575e7b34-6543-4c9d-cca9-b280ed9cd4e8"
      },
      "execution_count": null,
      "outputs": [
        {
          "output_type": "stream",
          "name": "stdout",
          "text": [
            "revolves\n",
            "sun\n",
            "ma\n"
          ]
        }
      ]
    },
    {
      "cell_type": "markdown",
      "source": [
        "Q6. Write a program to create a new string made of an input string’s first, middle, and       last character.\n",
        "  - Example input: Holiday\n",
        "  - Example output: Hiy\n"
      ],
      "metadata": {
        "id": "VidU0UPUpkGk"
      }
    },
    {
      "cell_type": "code",
      "source": [
        "name = \"Holiday\"\n",
        "\n",
        "first,last = name[0],name[-1]\n",
        "middle_index = len(name)//2\n",
        "middle = name[middle_index]\n",
        "\n",
        "print(first,middle,last,sep='')"
      ],
      "metadata": {
        "colab": {
          "base_uri": "https://localhost:8080/"
        },
        "id": "otmKNV5poq7h",
        "outputId": "d4e30b9c-f83b-4bb2-d190-50159e1d33b2"
      },
      "execution_count": null,
      "outputs": [
        {
          "output_type": "stream",
          "name": "stdout",
          "text": [
            "Hiy\n"
          ]
        }
      ]
    },
    {
      "cell_type": "markdown",
      "source": [
        "Q7. Explore five different string methods and explain with examples.\n"
      ],
      "metadata": {
        "id": "oYYXAhLcqWr8"
      }
    },
    {
      "cell_type": "code",
      "source": [
        "str1 = \"Hi, Good Afternoon!\"\n",
        "\n",
        "# 1. upper() - It return a string where all characters are in upper case.\n",
        "print(str1.upper())\n",
        "\n",
        "# 2. lower() - It return a string where all characters are in lower case.\n",
        "print(str1.lower())\n",
        "\n",
        "# 3. Capitalize - It return a string where only first character is upper case and remaining characters are in lower case\n",
        "print(str1.capitalize())\n",
        "\n",
        "# 4. count() - It returns count of the occurance of particular sub-string.\n",
        "print(str1.count('o'))\n",
        "\n",
        "# 5. replace(old,new,count) - It replaces the old substring with the new sub-string and we can input the no. of times it should replace\n",
        "print(str1.replace('o','z',2))      # In the output we can see that only first two occurance of 'o' is replaced with 'z'"
      ],
      "metadata": {
        "colab": {
          "base_uri": "https://localhost:8080/"
        },
        "id": "gbZwMnfwp_dN",
        "outputId": "4ab71a1e-262a-4c1e-fd04-dcaa898b94f3"
      },
      "execution_count": null,
      "outputs": [
        {
          "output_type": "stream",
          "name": "stdout",
          "text": [
            "HI, GOOD AFTERNOON!\n",
            "hi, good afternoon!\n",
            "Hi, good afternoon!\n",
            "4\n",
            "Hi, Gzzd Afternoon!\n"
          ]
        }
      ]
    },
    {
      "cell_type": "markdown",
      "source": [
        "Q8.\n",
        "- a. Write a program that takes a sentence ='Give papa a cup of proper coffee in a copper coffee cup' as input and replaces all occurrences of the word \"coffee\" with \"tea\".\n",
        "- b. Check if the above sentence starts with \"Hello\" and ends with \"cup\".\n",
        "- c. Return the above sentence in title case and capital case.\n"
      ],
      "metadata": {
        "id": "sEKuPa3Iq_GP"
      }
    },
    {
      "cell_type": "code",
      "source": [
        "s = input(\"Enter the sentence:\")\n",
        "\n",
        "s_new = s.replace(\"coffee\",\"tea\")\n",
        "print(s_new)\n",
        "\n",
        "print(s.title())\n",
        "print(s.capitalize())"
      ],
      "metadata": {
        "colab": {
          "base_uri": "https://localhost:8080/"
        },
        "id": "CKT6Yiorq680",
        "outputId": "7f99da2c-7ac6-4577-f77a-5a3cc81a8dbb"
      },
      "execution_count": null,
      "outputs": [
        {
          "output_type": "stream",
          "name": "stdout",
          "text": [
            "Enter the sentence:Give papa a cup of proper coffee in a copper coffee cup\n",
            "Give papa a cup of proper tea in a copper tea cup\n",
            "Give Papa A Cup Of Proper Coffee In A Copper Coffee Cup\n",
            "Give papa a cup of proper coffee in a copper coffee cup\n"
          ]
        }
      ]
    },
    {
      "cell_type": "code",
      "source": [],
      "metadata": {
        "id": "LlSir5eOsKT3"
      },
      "execution_count": null,
      "outputs": []
    }
  ]
}